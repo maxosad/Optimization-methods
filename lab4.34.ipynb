{
 "cells": [
  {
   "cell_type": "markdown",
   "id": "626ea3b0",
   "metadata": {},
   "source": [
    "3"
   ]
  },
  {
   "cell_type": "code",
   "execution_count": 1,
   "id": "6bd0fc0b",
   "metadata": {},
   "outputs": [],
   "source": [
    "import scipy.optimize as optimize\n",
    "import numpy as np\n",
    "import matplotlib.pyplot as plt"
   ]
  },
  {
   "cell_type": "code",
   "execution_count": 2,
   "id": "ee2156f1",
   "metadata": {},
   "outputs": [
    {
     "data": {
      "text/plain": [
       "      fun: -0.9999999999982316\n",
       " hess_inv: array([[ 1.00047155e+00, -4.71428602e-04],\n",
       "       [-4.71428602e-04,  1.00047131e+00]])\n",
       "      jac: array([-1.33365393e-06,  1.32620335e-06])\n",
       "  message: 'Optimization terminated successfully.'\n",
       "     nfev: 27\n",
       "      nit: 3\n",
       "     njev: 9\n",
       "   status: 0\n",
       "  success: True\n",
       "        x: array([ 1.57079498, -1.57079501])"
      ]
     },
     "execution_count": 2,
     "metadata": {},
     "output_type": "execute_result"
    }
   ],
   "source": [
    "def func(xy):\n",
    "    x, y = xy\n",
    "    return np.sin(x)*np.sin(y)\n",
    "optimize.minimize(func, (0.1, -0.1))"
   ]
  },
  {
   "cell_type": "code",
   "execution_count": 3,
   "id": "4d0dc811",
   "metadata": {},
   "outputs": [],
   "source": [
    "xs = np.array([i for i in range(3)])\n",
    "ys = np.array([i for i in range(3)])"
   ]
  },
  {
   "cell_type": "code",
   "execution_count": 4,
   "id": "2b3dd4a5",
   "metadata": {},
   "outputs": [
    {
     "data": {
      "text/plain": [
       "      fun: array([-6.62523069e+152])\n",
       " hess_inv: array([[2.74070385e+307]])\n",
       "      jac: array([4.])\n",
       "  message: 'Desired error not necessarily achieved due to precision loss.'\n",
       "     nfev: 7014\n",
       "      nit: 46\n",
       "     njev: 3507\n",
       "   status: 2\n",
       "  success: False\n",
       "        x: array([-1.65630767e+152])"
      ]
     },
     "execution_count": 4,
     "metadata": {},
     "output_type": "execute_result"
    }
   ],
   "source": [
    "def fsqr(x):\n",
    "    return x*2 + 2*x + 1\n",
    "optimize.minimize(fsqr, 0)"
   ]
  },
  {
   "cell_type": "code",
   "execution_count": 5,
   "id": "37c0a386",
   "metadata": {},
   "outputs": [],
   "source": [
    "def sincos(x):\n",
    "    return np.sin(x)*np.cos(x)\n"
   ]
  },
  {
   "cell_type": "code",
   "execution_count": 6,
   "id": "53111abe",
   "metadata": {},
   "outputs": [
    {
     "data": {
      "image/png": "[encoded data removed]",
      "text/plain": [
       "<Figure size 432x288 with 1 Axes>"
      ]
     },
     "metadata": {
      "needs_background": "light"
     },
     "output_type": "display_data"
    }
   ],
   "source": [
    "x = np.arange(-2,2,0.1)   # start,stop,step\n",
    "y = np.sin(x) * np.cos(x)\n",
    "plt.plot(x,y)\n",
    "plt.show()"
   ]
  },
  {
   "cell_type": "code",
   "execution_count": 7,
   "id": "41b482c6",
   "metadata": {},
   "outputs": [
    {
     "data": {
      "text/plain": [
       "      fun: -0.49999999999999994\n",
       " hess_inv: array([[0.50000095]])\n",
       "      jac: array([0.])\n",
       "  message: 'Optimization terminated successfully.'\n",
       "     nfev: 12\n",
       "      nit: 5\n",
       "     njev: 6\n",
       "   status: 0\n",
       "  success: True\n",
       "        x: array([-0.78539817])"
      ]
     },
     "execution_count": 7,
     "metadata": {},
     "output_type": "execute_result"
    }
   ],
   "source": [
    "result = optimize.minimize(sincos,0)\n",
    "result"
   ]
  },
  {
   "cell_type": "code",
   "execution_count": 8,
   "id": "33b22c98",
   "metadata": {},
   "outputs": [
    {
     "data": {
      "text/plain": [
       "   direc: array([[1., 0.],\n",
       "       [0., 1.]])\n",
       "     fun: -1.0\n",
       " message: 'Optimization terminated successfully.'\n",
       "    nfev: 42\n",
       "     nit: 2\n",
       "  status: 0\n",
       " success: True\n",
       "       x: array([ 1.57079633, -1.57079633])"
      ]
     },
     "execution_count": 8,
     "metadata": {},
     "output_type": "execute_result"
    }
   ],
   "source": [
    "result = optimize.minimize(func, (0.1, -0.1), method =\"Powell\")\n",
    "result"
   ]
  },
  {
   "cell_type": "markdown",
   "id": "e1e28d92",
   "metadata": {},
   "source": [
    "Solve a nonlinear least-squares problem with bounds on the variables.\n",
    "\n",
    "Given the residuals f(x) (an m-D real function of n real variables) and the loss function rho(s) (a scalar function), least_squares finds a local minimum of the cost function F(x):"
   ]
  },
  {
   "cell_type": "code",
   "execution_count": null,
   "id": "3e5cb385",
   "metadata": {},
   "outputs": [],
   "source": [
    "import numpy as np\n",
    "def fun_rosenbrock(x):\n",
    "    return np.array([10 * (x[1] - x[0]**2), (1 - x[0])])\n",
    "   "
   ]
  },
  {
   "cell_type": "markdown",
   "id": "65c6453b",
   "metadata": {},
   "source": [
    "Предоставляем только вектор остатков. \n",
    "Алгоритм строит функцию стоимости как сумму квадратов остатков"
   ]
  },
  {
   "cell_type": "code",
   "execution_count": 9,
   "id": "763f2c79",
   "metadata": {},
   "outputs": [
    {
     "data": {
      "text/plain": [
       " active_mask: array([0., 0.])\n",
       "        cost: 9.866924291084687e-30\n",
       "         fun: array([4.44089210e-15, 1.11022302e-16])\n",
       "        grad: array([-8.89288649e-14,  4.44089210e-14])\n",
       "         jac: array([[-20.00000015,  10.        ],\n",
       "       [ -1.        ,   0.        ]])\n",
       "     message: '`gtol` termination condition is satisfied.'\n",
       "        nfev: 3\n",
       "        njev: 3\n",
       "  optimality: 8.892886493421953e-14\n",
       "      status: 1\n",
       "     success: True\n",
       "           x: array([1., 1.])"
      ]
     },
     "execution_count": 9,
     "metadata": {},
     "output_type": "execute_result"
    }
   ],
   "source": [
    "from scipy.optimize import least_squares\n",
    "input = np.array([2, 2])\n",
    "res = least_squares(fun_rosenbrock, input)\n",
    "\n",
    "res"
   ]
  },
  {
   "cell_type": "markdown",
   "id": "226f6b98",
   "metadata": {},
   "source": [
    "4\n",
    "min_{x_0, x_1}: 100(x_0 - x_1^2)^2 + (1-x_0)^2\n",
    "Функция Розенброка определен\n",
    "[0, -0.5] , [1.0, 2.0]\n",
    "\n",
    "\n",
    " x_0^2 + x_1 <= 1 \n",
    " x_0^2 - x_1 <= 1 \n",
    " 2x_0 + x_1 = 1 $\n",
    " x_0 + 2x_1 <= 1 \n",
    " 0 <= x_0 <= 1 \n",
    " -0.5 <= x_1 <= 2.0 \n",
    " \n",
    " \n",
    " В нашем случае имеется единственное решение в точке $[x_0, x_1] = [0.4149, 0.1701]$, для которой справедливы только первое и четвертое ограничения."
   ]
  },
  {
   "cell_type": "code",
   "execution_count": 10,
   "id": "733d7fee",
   "metadata": {},
   "outputs": [
    {
     "name": "stdout",
     "output_type": "stream",
     "text": [
      "`gtol` termination condition is satisfied.\n",
      "Number of iterations: 12, function evaluations: 8, CG iterations: 7, optimality: 2.99e-09, constraint violation: 0.00e+00, execution time: 0.035 s.\n",
      "[0.41494531 0.17010937]\n"
     ]
    }
   ],
   "source": [
    "from scipy.optimize import Bounds\n",
    "import numpy as np\n",
    "from scipy.optimize import LinearConstraint\n",
    "\n",
    "bounds = Bounds ([0, -0.5], [1.0, 2.0])\n",
    "linear_constraint = LinearConstraint ([[1, 2], [2, 1]], [-np.inf, 1], [1, 1])\n",
    "\n",
    "from scipy.optimize import NonlinearConstraint\n",
    "\n",
    "def cons_f(x):\n",
    "     return [x[0]**2 + x[1], x[0]**2 - x[1]]\n",
    "\n",
    "def cons_J(x):\n",
    "     return [[2*x[0], 1], [2*x[0], -1]]\n",
    "\n",
    "def cons_H(x, v):\n",
    "     return v[0]*np.array([[2, 0], [0, 0]]) + v[1]*np.array([[2, 0], [0, 0]])\n",
    "\n",
    "nonlinear_constraint = NonlinearConstraint(cons_f, -np.inf, 1, jac=cons_J, hess=cons_H)\n",
    "\n",
    "from scipy.optimize import minimize\n",
    "from scipy.optimize import rosen, rosen_der, rosen_hess, rosen_hess_prod\n",
    "\n",
    "x0 = np.array([0.5, 0])\n",
    "res = minimize(rosen, x0, method='trust-constr', jac=rosen_der, hess=rosen_hess,\n",
    "                constraints=[linear_constraint, nonlinear_constraint],\n",
    "                options={'verbose': 1}, bounds=bounds)\n",
    "print(res.x)"
   ]
  }
 ],
 "metadata": {
  "kernelspec": {
   "display_name": "Python 3 (ipykernel)",
   "language": "python",
   "name": "python3"
  },
  "language_info": {
   "codemirror_mode": {
    "name": "ipython",
    "version": 3
   },
   "file_extension": ".py",
   "mimetype": "text/x-python",
   "name": "python",
   "nbconvert_exporter": "python",
   "pygments_lexer": "ipython3",
   "version": "3.9.7"
  }
 },
 "nbformat": 4,
 "nbformat_minor": 5
}
