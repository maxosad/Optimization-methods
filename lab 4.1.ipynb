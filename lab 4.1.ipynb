{
 "cells": [
  {
   "cell_type": "markdown",
   "id": "79735d38",
   "metadata": {},
   "source": [
    "вычислительный граф\n",
    "набор вычислений, которые соедини в прямом порядке вычислений\n"
   ]
  },
  {
   "cell_type": "markdown",
   "id": "86aedeb3",
   "metadata": {},
   "source": [
    "тензоры - позоже на матрицы\n",
    "\n"
   ]
  },
  {
   "cell_type": "markdown",
   "id": "76f84687",
   "metadata": {},
   "source": [
    "автоматическое дифференцирование \n",
    "есть механизмы вычисления градиента ошибки и\n",
    "обратного распространени ошибки\n",
    "Переменный класс - главный компоненет автоградиентной системы"
   ]
  },
  {
   "cell_type": "markdown",
   "id": "7b387a8e",
   "metadata": {},
   "source": [
    "Переменный класс обертывает тензор и позволяет автоматически вычислять градиент \n",
    "на тензоре при вызове .backward()"
   ]
  },
  {
   "cell_type": "markdown",
   "id": "cf659a5a",
   "metadata": {},
   "source": [
    "requires_grad=True\n",
    "requires_grad указывается что переменной нужен градиент \n"
   ]
  },
  {
   "cell_type": "code",
   "execution_count": 1,
   "id": "1f991a18",
   "metadata": {},
   "outputs": [],
   "source": [
    "import torch\n",
    "import torch.optim as optim\n"
   ]
  },
  {
   "cell_type": "code",
   "execution_count": 2,
   "id": "07ea4a6b",
   "metadata": {},
   "outputs": [],
   "source": [
    "x1 = torch.tensor(2, dtype=torch.float32, requires_grad=True)\n",
    "xx1 = torch.tensor([1.5 ,2.5], dtype=torch.float32, requires_grad=True)"
   ]
  },
  {
   "cell_type": "code",
   "execution_count": 3,
   "id": "767c246d",
   "metadata": {},
   "outputs": [],
   "source": [
    "y1 = torch.tensor(3, dtype=torch.float32, requires_grad=True)"
   ]
  },
  {
   "cell_type": "code",
   "execution_count": 4,
   "id": "327ada0a",
   "metadata": {},
   "outputs": [],
   "source": [
    "a = torch.tensor(2, dtype=torch.float32, requires_grad=True)\n",
    "b = torch.tensor(3, dtype=torch.float32, requires_grad=True)"
   ]
  },
  {
   "cell_type": "code",
   "execution_count": 5,
   "id": "b9604af1",
   "metadata": {},
   "outputs": [
    {
     "data": {
      "text/plain": [
       "tensor(2., requires_grad=True)"
      ]
     },
     "execution_count": 5,
     "metadata": {},
     "output_type": "execute_result"
    }
   ],
   "source": [
    "x1\n"
   ]
  },
  {
   "cell_type": "code",
   "execution_count": 6,
   "id": "b69e1e4a",
   "metadata": {},
   "outputs": [
    {
     "data": {
      "text/plain": [
       "tensor(3., requires_grad=True)"
      ]
     },
     "execution_count": 6,
     "metadata": {},
     "output_type": "execute_result"
    }
   ],
   "source": [
    "y1"
   ]
  },
  {
   "cell_type": "code",
   "execution_count": 7,
   "id": "455fa88c",
   "metadata": {},
   "outputs": [],
   "source": [
    "z = 2 * x1 * x1 * x1 * x1 + 7 * y1 ** 2\n",
    "#2*x^4' = 8*x^3"
   ]
  },
  {
   "cell_type": "code",
   "execution_count": 8,
   "id": "867216a2",
   "metadata": {},
   "outputs": [],
   "source": [
    "p = 3 * a * b"
   ]
  },
  {
   "cell_type": "code",
   "execution_count": 9,
   "id": "0917d151",
   "metadata": {},
   "outputs": [],
   "source": [
    "p.backward()"
   ]
  },
  {
   "cell_type": "code",
   "execution_count": 10,
   "id": "e84fb19e",
   "metadata": {},
   "outputs": [],
   "source": [
    "z.backward()"
   ]
  },
  {
   "cell_type": "code",
   "execution_count": 11,
   "id": "6f03e240",
   "metadata": {},
   "outputs": [
    {
     "name": "stdout",
     "output_type": "stream",
     "text": [
      "tensor(64.)\n"
     ]
    }
   ],
   "source": [
    "print(x1.grad)"
   ]
  },
  {
   "cell_type": "code",
   "execution_count": 12,
   "id": "dc2d858b",
   "metadata": {},
   "outputs": [
    {
     "name": "stdout",
     "output_type": "stream",
     "text": [
      "tensor(42.)\n"
     ]
    }
   ],
   "source": [
    "print(y1.grad)"
   ]
  },
  {
   "cell_type": "code",
   "execution_count": 13,
   "id": "02c8af92",
   "metadata": {},
   "outputs": [
    {
     "name": "stdout",
     "output_type": "stream",
     "text": [
      "tensor(9.)\n"
     ]
    }
   ],
   "source": [
    "print(a.grad)"
   ]
  },
  {
   "cell_type": "code",
   "execution_count": 14,
   "id": "a94c8bed",
   "metadata": {},
   "outputs": [
    {
     "name": "stdout",
     "output_type": "stream",
     "text": [
      "tensor(6.)\n"
     ]
    }
   ],
   "source": [
    "print(b.grad) ##optimizer = optim.SGD(xx, lr=0.01)"
   ]
  },
  {
   "cell_type": "markdown",
   "id": "0bcc2b56",
   "metadata": {},
   "source": [
    "чтобы использовать torch.optim необходимо создать объект оптимизатора который содержит состояние и обновлять параметры на основе измменения градиента "
   ]
  }
 ],
 "metadata": {
  "kernelspec": {
   "display_name": "Python 3 (ipykernel)",
   "language": "python",
   "name": "python3"
  },
  "language_info": {
   "codemirror_mode": {
    "name": "ipython",
    "version": 3
   },
   "file_extension": ".py",
   "mimetype": "text/x-python",
   "name": "python",
   "nbconvert_exporter": "python",
   "pygments_lexer": "ipython3",
   "version": "3.9.7"
  }
 },
 "nbformat": 4,
 "nbformat_minor": 5
}
